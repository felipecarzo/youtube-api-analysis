video_ids = get_video_ids(youtube, playlist_id)

len(video_ids)

request = youtube.videos().list(
    part="snippet,contentDetails,statistics",
    id=video_ids[0:5]
)
response = request.execute()



